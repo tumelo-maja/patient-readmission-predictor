{
  "cells": [
    {
      "cell_type": "markdown",
      "metadata": {
        "id": "0aStgWSO0E0E"
      },
      "source": [
        "# **Data Collection Notebook**"
      ]
    },
    {
      "cell_type": "markdown",
      "metadata": {
        "id": "1eLEkw5O0ECa"
      },
      "source": [
        "## Objectives\n",
        "\n",
        "* Fetch dataset from Kaggle.\n",
        "* Preliminary data exploration\n",
        "* Save dataset in the appropriate format.\n",
        "\n",
        "## Inputs\n",
        "\n",
        "* Synthetic hospital records by MIT.\n",
        "\n",
        "## Outputs\n",
        "\n",
        "* Generate Dataset: outputs/datasets/collection/patientReadmission.csv\n",
        "\n"
      ]
    },
    {
      "cell_type": "markdown",
      "metadata": {
        "id": "9uWZXH9LwoQg"
      },
      "source": [
        "---"
      ]
    },
    {
      "cell_type": "markdown",
      "metadata": {
        "id": "cqP-UeN-z3i2"
      },
      "source": [
        "# Set working directory"
      ]
    },
    {
      "cell_type": "code",
      "execution_count": 1,
      "metadata": {
        "id": "wZfF_j-Bz3i4",
        "outputId": "66943449-1436-4c3d-85c7-b85f9f78349b"
      },
      "outputs": [
        {
          "data": {
            "text/plain": [
              "'/workspaces/patient-readmission-predictor'"
            ]
          },
          "execution_count": 1,
          "metadata": {},
          "output_type": "execute_result"
        }
      ],
      "source": [
        "import os\n",
        "os.chdir(os.path.dirname(os.getcwd()))\n",
        "current_dir = os.getcwd()\n",
        "current_dir"
      ]
    },
    {
      "cell_type": "markdown",
      "metadata": {
        "id": "-mavJ8DibrcQ"
      },
      "source": [
        "# Install necessary packages"
      ]
    },
    {
      "cell_type": "markdown",
      "metadata": {},
      "source": [
        "All necessary packages for fetching data have already been install using the requirements.txt file"
      ]
    },
    {
      "cell_type": "code",
      "execution_count": 2,
      "metadata": {},
      "outputs": [
        {
          "name": "stdout",
          "output_type": "stream",
          "text": [
            "Requirement already satisfied: numpy==1.26.1 in /home/cistudent/.local/lib/python3.12/site-packages (from -r requirements.txt (line 1)) (1.26.1)\n",
            "Requirement already satisfied: pandas==2.1.1 in /home/cistudent/.local/lib/python3.12/site-packages (from -r requirements.txt (line 2)) (2.1.1)\n",
            "Requirement already satisfied: matplotlib==3.8.0 in /home/cistudent/.local/lib/python3.12/site-packages (from -r requirements.txt (line 3)) (3.8.0)\n",
            "Requirement already satisfied: seaborn==0.13.2 in /home/cistudent/.local/lib/python3.12/site-packages (from -r requirements.txt (line 4)) (0.13.2)\n",
            "Requirement already satisfied: ydata-profiling==4.12.0 in /home/cistudent/.local/lib/python3.12/site-packages (from -r requirements.txt (line 5)) (4.12.0)\n",
            "Requirement already satisfied: plotly==5.17.0 in /home/cistudent/.local/lib/python3.12/site-packages (from -r requirements.txt (line 6)) (5.17.0)\n",
            "Requirement already satisfied: ppscore==1.1.0 in /home/cistudent/.local/lib/python3.12/site-packages (from -r requirements.txt (line 7)) (1.1.0)\n",
            "Requirement already satisfied: streamlit==1.40.2 in /home/cistudent/.local/lib/python3.12/site-packages (from -r requirements.txt (line 8)) (1.40.2)\n",
            "Requirement already satisfied: feature-engine==1.6.1 in /home/cistudent/.local/lib/python3.12/site-packages (from -r requirements.txt (line 9)) (1.6.1)\n",
            "Requirement already satisfied: imbalanced-learn==0.11.0 in /home/cistudent/.local/lib/python3.12/site-packages (from -r requirements.txt (line 10)) (0.11.0)\n",
            "Requirement already satisfied: scikit-learn==1.3.1 in /home/cistudent/.local/lib/python3.12/site-packages (from -r requirements.txt (line 11)) (1.3.1)\n",
            "Requirement already satisfied: xgboost==1.7.6 in /home/cistudent/.local/lib/python3.12/site-packages (from -r requirements.txt (line 12)) (1.7.6)\n",
            "Requirement already satisfied: yellowbrick==1.5 in /home/cistudent/.local/lib/python3.12/site-packages (from -r requirements.txt (line 13)) (1.5)\n",
            "Requirement already satisfied: Pillow==10.0.1 in /home/cistudent/.local/lib/python3.12/site-packages (from -r requirements.txt (line 14)) (10.0.1)\n",
            "Requirement already satisfied: ipython==7.23.1 in /home/cistudent/.local/lib/python3.12/site-packages (from -r requirements.txt (line 15)) (7.23.1)\n",
            "Requirement already satisfied: kaggle==1.5.12 in /home/cistudent/.local/lib/python3.12/site-packages (from -r requirements.txt (line 16)) (1.5.12)\n",
            "Requirement already satisfied: python-dateutil>=2.8.2 in /home/cistudent/.pyenv/versions/3.12.1/lib/python3.12/site-packages (from pandas==2.1.1->-r requirements.txt (line 2)) (2.9.0.post0)\n",
            "Requirement already satisfied: pytz>=2020.1 in /home/cistudent/.local/lib/python3.12/site-packages (from pandas==2.1.1->-r requirements.txt (line 2)) (2025.2)\n",
            "Requirement already satisfied: tzdata>=2022.1 in /home/cistudent/.local/lib/python3.12/site-packages (from pandas==2.1.1->-r requirements.txt (line 2)) (2025.2)\n",
            "Requirement already satisfied: contourpy>=1.0.1 in /home/cistudent/.local/lib/python3.12/site-packages (from matplotlib==3.8.0->-r requirements.txt (line 3)) (1.3.3)\n",
            "Requirement already satisfied: cycler>=0.10 in /home/cistudent/.local/lib/python3.12/site-packages (from matplotlib==3.8.0->-r requirements.txt (line 3)) (0.12.1)\n",
            "Requirement already satisfied: fonttools>=4.22.0 in /home/cistudent/.local/lib/python3.12/site-packages (from matplotlib==3.8.0->-r requirements.txt (line 3)) (4.60.1)\n",
            "Requirement already satisfied: kiwisolver>=1.0.1 in /home/cistudent/.local/lib/python3.12/site-packages (from matplotlib==3.8.0->-r requirements.txt (line 3)) (1.4.9)\n",
            "Requirement already satisfied: packaging>=20.0 in /home/cistudent/.pyenv/versions/3.12.1/lib/python3.12/site-packages (from matplotlib==3.8.0->-r requirements.txt (line 3)) (24.2)\n",
            "Requirement already satisfied: pyparsing>=2.3.1 in /home/cistudent/.local/lib/python3.12/site-packages (from matplotlib==3.8.0->-r requirements.txt (line 3)) (3.2.5)\n",
            "Requirement already satisfied: scipy<1.14,>=1.4.1 in /home/cistudent/.local/lib/python3.12/site-packages (from ydata-profiling==4.12.0->-r requirements.txt (line 5)) (1.13.1)\n",
            "Requirement already satisfied: pydantic>=2 in /home/cistudent/.local/lib/python3.12/site-packages (from ydata-profiling==4.12.0->-r requirements.txt (line 5)) (2.12.3)\n",
            "Requirement already satisfied: PyYAML<6.1,>=5.0.0 in /home/cistudent/.pyenv/versions/3.12.1/lib/python3.12/site-packages (from ydata-profiling==4.12.0->-r requirements.txt (line 5)) (6.0.2)\n",
            "Requirement already satisfied: jinja2<3.2,>=2.11.1 in /home/cistudent/.pyenv/versions/3.12.1/lib/python3.12/site-packages (from ydata-profiling==4.12.0->-r requirements.txt (line 5)) (3.1.4)\n",
            "Requirement already satisfied: visions<0.7.7,>=0.7.5 in /home/cistudent/.local/lib/python3.12/site-packages (from visions[type_image_path]<0.7.7,>=0.7.5->ydata-profiling==4.12.0->-r requirements.txt (line 5)) (0.7.6)\n",
            "Requirement already satisfied: htmlmin==0.1.12 in /home/cistudent/.local/lib/python3.12/site-packages (from ydata-profiling==4.12.0->-r requirements.txt (line 5)) (0.1.12)\n",
            "Requirement already satisfied: phik<0.13,>=0.11.1 in /home/cistudent/.local/lib/python3.12/site-packages (from ydata-profiling==4.12.0->-r requirements.txt (line 5)) (0.12.5)\n",
            "Requirement already satisfied: requests<3,>=2.24.0 in /home/cistudent/.pyenv/versions/3.12.1/lib/python3.12/site-packages (from ydata-profiling==4.12.0->-r requirements.txt (line 5)) (2.32.3)\n",
            "Requirement already satisfied: tqdm<5,>=4.48.2 in /home/cistudent/.local/lib/python3.12/site-packages (from ydata-profiling==4.12.0->-r requirements.txt (line 5)) (4.67.1)\n",
            "Requirement already satisfied: multimethod<2,>=1.4 in /home/cistudent/.local/lib/python3.12/site-packages (from ydata-profiling==4.12.0->-r requirements.txt (line 5)) (1.12)\n",
            "Requirement already satisfied: statsmodels<1,>=0.13.2 in /home/cistudent/.local/lib/python3.12/site-packages (from ydata-profiling==4.12.0->-r requirements.txt (line 5)) (0.14.5)\n",
            "Requirement already satisfied: typeguard<5,>=3 in /home/cistudent/.local/lib/python3.12/site-packages (from ydata-profiling==4.12.0->-r requirements.txt (line 5)) (4.4.4)\n",
            "Requirement already satisfied: imagehash==4.3.1 in /home/cistudent/.local/lib/python3.12/site-packages (from ydata-profiling==4.12.0->-r requirements.txt (line 5)) (4.3.1)\n",
            "Requirement already satisfied: wordcloud>=1.9.3 in /home/cistudent/.local/lib/python3.12/site-packages (from ydata-profiling==4.12.0->-r requirements.txt (line 5)) (1.9.4)\n",
            "Requirement already satisfied: dacite>=1.8 in /home/cistudent/.local/lib/python3.12/site-packages (from ydata-profiling==4.12.0->-r requirements.txt (line 5)) (1.9.2)\n",
            "Requirement already satisfied: numba<1,>=0.56.0 in /home/cistudent/.local/lib/python3.12/site-packages (from ydata-profiling==4.12.0->-r requirements.txt (line 5)) (0.62.1)\n",
            "Requirement already satisfied: tenacity>=6.2.0 in /home/cistudent/.local/lib/python3.12/site-packages (from plotly==5.17.0->-r requirements.txt (line 6)) (9.1.2)\n",
            "Requirement already satisfied: altair<6,>=4.0 in /home/cistudent/.local/lib/python3.12/site-packages (from streamlit==1.40.2->-r requirements.txt (line 8)) (5.5.0)\n",
            "Requirement already satisfied: blinker<2,>=1.0.0 in /home/cistudent/.local/lib/python3.12/site-packages (from streamlit==1.40.2->-r requirements.txt (line 8)) (1.9.0)\n",
            "Requirement already satisfied: cachetools<6,>=4.0 in /home/cistudent/.local/lib/python3.12/site-packages (from streamlit==1.40.2->-r requirements.txt (line 8)) (5.5.2)\n",
            "Requirement already satisfied: click<9,>=7.0 in /home/cistudent/.local/lib/python3.12/site-packages (from streamlit==1.40.2->-r requirements.txt (line 8)) (8.3.0)\n",
            "Requirement already satisfied: protobuf<6,>=3.20 in /home/cistudent/.local/lib/python3.12/site-packages (from streamlit==1.40.2->-r requirements.txt (line 8)) (5.29.5)\n",
            "Requirement already satisfied: pyarrow>=7.0 in /home/cistudent/.local/lib/python3.12/site-packages (from streamlit==1.40.2->-r requirements.txt (line 8)) (22.0.0)\n",
            "Requirement already satisfied: rich<14,>=10.14.0 in /home/cistudent/.pyenv/versions/3.12.1/lib/python3.12/site-packages (from streamlit==1.40.2->-r requirements.txt (line 8)) (13.9.4)\n",
            "Requirement already satisfied: toml<2,>=0.10.1 in /home/cistudent/.local/lib/python3.12/site-packages (from streamlit==1.40.2->-r requirements.txt (line 8)) (0.10.2)\n",
            "Requirement already satisfied: typing-extensions<5,>=4.3.0 in /home/cistudent/.local/lib/python3.12/site-packages (from streamlit==1.40.2->-r requirements.txt (line 8)) (4.15.0)\n",
            "Requirement already satisfied: watchdog<7,>=2.1.5 in /home/cistudent/.local/lib/python3.12/site-packages (from streamlit==1.40.2->-r requirements.txt (line 8)) (6.0.0)\n",
            "Requirement already satisfied: gitpython!=3.1.19,<4,>=3.0.7 in /home/cistudent/.local/lib/python3.12/site-packages (from streamlit==1.40.2->-r requirements.txt (line 8)) (3.1.45)\n",
            "Requirement already satisfied: pydeck<1,>=0.8.0b4 in /home/cistudent/.local/lib/python3.12/site-packages (from streamlit==1.40.2->-r requirements.txt (line 8)) (0.9.1)\n",
            "Requirement already satisfied: tornado<7,>=6.0.3 in /home/cistudent/.pyenv/versions/3.12.1/lib/python3.12/site-packages (from streamlit==1.40.2->-r requirements.txt (line 8)) (6.4.2)\n",
            "Requirement already satisfied: joblib>=1.1.1 in /home/cistudent/.local/lib/python3.12/site-packages (from imbalanced-learn==0.11.0->-r requirements.txt (line 10)) (1.5.2)\n",
            "Requirement already satisfied: threadpoolctl>=2.0.0 in /home/cistudent/.local/lib/python3.12/site-packages (from imbalanced-learn==0.11.0->-r requirements.txt (line 10)) (3.6.0)\n",
            "Requirement already satisfied: setuptools>=18.5 in /home/cistudent/.pyenv/versions/3.12.1/lib/python3.12/site-packages (from ipython==7.23.1->-r requirements.txt (line 15)) (75.6.0)\n",
            "Requirement already satisfied: jedi>=0.16 in /home/cistudent/.pyenv/versions/3.12.1/lib/python3.12/site-packages (from ipython==7.23.1->-r requirements.txt (line 15)) (0.19.2)\n",
            "Requirement already satisfied: decorator in /home/cistudent/.pyenv/versions/3.12.1/lib/python3.12/site-packages (from ipython==7.23.1->-r requirements.txt (line 15)) (5.1.1)\n",
            "Requirement already satisfied: pickleshare in /home/cistudent/.local/lib/python3.12/site-packages (from ipython==7.23.1->-r requirements.txt (line 15)) (0.7.5)\n",
            "Requirement already satisfied: traitlets>=4.2 in /home/cistudent/.pyenv/versions/3.12.1/lib/python3.12/site-packages (from ipython==7.23.1->-r requirements.txt (line 15)) (5.14.3)\n",
            "Requirement already satisfied: prompt-toolkit!=3.0.0,!=3.0.1,<3.1.0,>=2.0.0 in /home/cistudent/.pyenv/versions/3.12.1/lib/python3.12/site-packages (from ipython==7.23.1->-r requirements.txt (line 15)) (3.0.48)\n",
            "Requirement already satisfied: pygments in /home/cistudent/.pyenv/versions/3.12.1/lib/python3.12/site-packages (from ipython==7.23.1->-r requirements.txt (line 15)) (2.18.0)\n",
            "Requirement already satisfied: backcall in /home/cistudent/.local/lib/python3.12/site-packages (from ipython==7.23.1->-r requirements.txt (line 15)) (0.2.0)\n",
            "Requirement already satisfied: matplotlib-inline in /home/cistudent/.pyenv/versions/3.12.1/lib/python3.12/site-packages (from ipython==7.23.1->-r requirements.txt (line 15)) (0.1.7)\n",
            "Requirement already satisfied: pexpect>4.3 in /home/cistudent/.pyenv/versions/3.12.1/lib/python3.12/site-packages (from ipython==7.23.1->-r requirements.txt (line 15)) (4.9.0)\n",
            "Requirement already satisfied: six>=1.10 in /home/cistudent/.pyenv/versions/3.12.1/lib/python3.12/site-packages (from kaggle==1.5.12->-r requirements.txt (line 16)) (1.17.0)\n",
            "Requirement already satisfied: certifi in /home/cistudent/.pyenv/versions/3.12.1/lib/python3.12/site-packages (from kaggle==1.5.12->-r requirements.txt (line 16)) (2024.12.14)\n",
            "Requirement already satisfied: python-slugify in /home/cistudent/.local/lib/python3.12/site-packages (from kaggle==1.5.12->-r requirements.txt (line 16)) (8.0.4)\n",
            "Requirement already satisfied: urllib3 in /home/cistudent/.pyenv/versions/3.12.1/lib/python3.12/site-packages (from kaggle==1.5.12->-r requirements.txt (line 16)) (2.2.3)\n",
            "Requirement already satisfied: PyWavelets in /home/cistudent/.local/lib/python3.12/site-packages (from imagehash==4.3.1->ydata-profiling==4.12.0->-r requirements.txt (line 5)) (1.9.0)\n",
            "Requirement already satisfied: jsonschema>=3.0 in /home/cistudent/.pyenv/versions/3.12.1/lib/python3.12/site-packages (from altair<6,>=4.0->streamlit==1.40.2->-r requirements.txt (line 8)) (4.23.0)\n",
            "Requirement already satisfied: narwhals>=1.14.2 in /home/cistudent/.local/lib/python3.12/site-packages (from altair<6,>=4.0->streamlit==1.40.2->-r requirements.txt (line 8)) (2.9.0)\n",
            "Requirement already satisfied: gitdb<5,>=4.0.1 in /home/cistudent/.local/lib/python3.12/site-packages (from gitpython!=3.1.19,<4,>=3.0.7->streamlit==1.40.2->-r requirements.txt (line 8)) (4.0.12)\n",
            "Requirement already satisfied: smmap<6,>=3.0.1 in /home/cistudent/.local/lib/python3.12/site-packages (from gitdb<5,>=4.0.1->gitpython!=3.1.19,<4,>=3.0.7->streamlit==1.40.2->-r requirements.txt (line 8)) (5.0.2)\n",
            "Requirement already satisfied: MarkupSafe>=2.0 in /home/cistudent/.pyenv/versions/3.12.1/lib/python3.12/site-packages (from jinja2<3.2,>=2.11.1->ydata-profiling==4.12.0->-r requirements.txt (line 5)) (3.0.2)\n",
            "Requirement already satisfied: llvmlite<0.46,>=0.45.0dev0 in /home/cistudent/.local/lib/python3.12/site-packages (from numba<1,>=0.56.0->ydata-profiling==4.12.0->-r requirements.txt (line 5)) (0.45.1)\n",
            "Requirement already satisfied: wcwidth in /home/cistudent/.pyenv/versions/3.12.1/lib/python3.12/site-packages (from prompt-toolkit!=3.0.0,!=3.0.1,<3.1.0,>=2.0.0->ipython==7.23.1->-r requirements.txt (line 15)) (0.2.13)\n",
            "Requirement already satisfied: charset-normalizer<4,>=2 in /home/cistudent/.pyenv/versions/3.12.1/lib/python3.12/site-packages (from requests<3,>=2.24.0->ydata-profiling==4.12.0->-r requirements.txt (line 5)) (3.4.0)\n",
            "Requirement already satisfied: idna<4,>=2.5 in /home/cistudent/.pyenv/versions/3.12.1/lib/python3.12/site-packages (from requests<3,>=2.24.0->ydata-profiling==4.12.0->-r requirements.txt (line 5)) (3.10)\n",
            "Requirement already satisfied: markdown-it-py>=2.2.0 in /home/cistudent/.pyenv/versions/3.12.1/lib/python3.12/site-packages (from rich<14,>=10.14.0->streamlit==1.40.2->-r requirements.txt (line 8)) (3.0.0)\n",
            "Requirement already satisfied: patsy>=0.5.6 in /home/cistudent/.local/lib/python3.12/site-packages (from statsmodels<1,>=0.13.2->ydata-profiling==4.12.0->-r requirements.txt (line 5)) (1.0.2)\n",
            "Requirement already satisfied: attrs>=19.3.0 in /home/cistudent/.pyenv/versions/3.12.1/lib/python3.12/site-packages (from visions<0.7.7,>=0.7.5->visions[type_image_path]<0.7.7,>=0.7.5->ydata-profiling==4.12.0->-r requirements.txt (line 5)) (24.3.0)\n",
            "Requirement already satisfied: networkx>=2.4 in /home/cistudent/.local/lib/python3.12/site-packages (from visions<0.7.7,>=0.7.5->visions[type_image_path]<0.7.7,>=0.7.5->ydata-profiling==4.12.0->-r requirements.txt (line 5)) (3.5)\n",
            "Requirement already satisfied: parso<0.9.0,>=0.8.4 in /home/cistudent/.pyenv/versions/3.12.1/lib/python3.12/site-packages (from jedi>=0.16->ipython==7.23.1->-r requirements.txt (line 15)) (0.8.4)\n",
            "Requirement already satisfied: jsonschema-specifications>=2023.03.6 in /home/cistudent/.pyenv/versions/3.12.1/lib/python3.12/site-packages (from jsonschema>=3.0->altair<6,>=4.0->streamlit==1.40.2->-r requirements.txt (line 8)) (2024.10.1)\n",
            "Requirement already satisfied: referencing>=0.28.4 in /home/cistudent/.pyenv/versions/3.12.1/lib/python3.12/site-packages (from jsonschema>=3.0->altair<6,>=4.0->streamlit==1.40.2->-r requirements.txt (line 8)) (0.35.1)\n",
            "Requirement already satisfied: rpds-py>=0.7.1 in /home/cistudent/.pyenv/versions/3.12.1/lib/python3.12/site-packages (from jsonschema>=3.0->altair<6,>=4.0->streamlit==1.40.2->-r requirements.txt (line 8)) (0.22.3)\n",
            "Requirement already satisfied: mdurl~=0.1 in /home/cistudent/.pyenv/versions/3.12.1/lib/python3.12/site-packages (from markdown-it-py>=2.2.0->rich<14,>=10.14.0->streamlit==1.40.2->-r requirements.txt (line 8)) (0.1.2)\n",
            "Requirement already satisfied: ptyprocess>=0.5 in /home/cistudent/.pyenv/versions/3.12.1/lib/python3.12/site-packages (from pexpect>4.3->ipython==7.23.1->-r requirements.txt (line 15)) (0.7.0)\n",
            "Requirement already satisfied: annotated-types>=0.6.0 in /home/cistudent/.local/lib/python3.12/site-packages (from pydantic>=2->ydata-profiling==4.12.0->-r requirements.txt (line 5)) (0.7.0)\n",
            "Requirement already satisfied: pydantic-core==2.41.4 in /home/cistudent/.local/lib/python3.12/site-packages (from pydantic>=2->ydata-profiling==4.12.0->-r requirements.txt (line 5)) (2.41.4)\n",
            "Requirement already satisfied: typing-inspection>=0.4.2 in /home/cistudent/.local/lib/python3.12/site-packages (from pydantic>=2->ydata-profiling==4.12.0->-r requirements.txt (line 5)) (0.4.2)\n",
            "Requirement already satisfied: text-unidecode>=1.3 in /home/cistudent/.local/lib/python3.12/site-packages (from python-slugify->kaggle==1.5.12->-r requirements.txt (line 16)) (1.3)\n",
            "Note: you may need to restart the kernel to use updated packages.\n"
          ]
        }
      ],
      "source": [
        "%pip install -r requirements.txt"
      ]
    },
    {
      "cell_type": "markdown",
      "metadata": {},
      "source": [
        "# Fetch data from Kaggle"
      ]
    },
    {
      "cell_type": "markdown",
      "metadata": {},
      "source": [
        "Configure access token"
      ]
    },
    {
      "cell_type": "code",
      "execution_count": 4,
      "metadata": {},
      "outputs": [],
      "source": [
        "\n",
        "import os\n",
        "os.environ['KAGGLE_CONFIG_DIR'] = os.getcwd()\n",
        "! chmod 600 kaggle.json"
      ]
    },
    {
      "cell_type": "markdown",
      "metadata": {},
      "source": [
        "Data downloaded for this url : www.kaggle.com \n",
        "\n",
        "Define folders\n"
      ]
    },
    {
      "cell_type": "code",
      "execution_count": 5,
      "metadata": {},
      "outputs": [
        {
          "name": "stdout",
          "output_type": "stream",
          "text": [
            "Downloading hospital-data-for-patient-readmission-prediction.zip to inputs/datasets/raw\n",
            "100%|████████████████████████████████████████| 537k/537k [00:00<00:00, 1.47MB/s]\n",
            "100%|████████████████████████████████████████| 537k/537k [00:00<00:00, 1.47MB/s]\n"
          ]
        }
      ],
      "source": [
        "KaggleDatasetPath =\"prasad22234/hospital-data-for-patient-readmission-prediction\"\n",
        "DestinationFolder = \"inputs/datasets/raw\"   \n",
        "! kaggle datasets download -d {KaggleDatasetPath} -p {DestinationFolder}"
      ]
    },
    {
      "cell_type": "markdown",
      "metadata": {},
      "source": [
        "Unzip the downloaded file, "
      ]
    },
    {
      "cell_type": "code",
      "execution_count": 6,
      "metadata": {},
      "outputs": [
        {
          "name": "stdout",
          "output_type": "stream",
          "text": [
            "Archive:  inputs/datasets/raw/hospital-data-for-patient-readmission-prediction.zip\n",
            "  inflating: inputs/datasets/raw/Healthcare Data Analysis for readmission.csv  \n"
          ]
        }
      ],
      "source": [
        "! unzip {DestinationFolder}/*.zip -d {DestinationFolder} \\\n",
        "  && rm {DestinationFolder}/*.zip \\\n",
        "  && rm kaggle.json"
      ]
    },
    {
      "cell_type": "markdown",
      "metadata": {},
      "source": [
        "---"
      ]
    },
    {
      "cell_type": "markdown",
      "metadata": {
        "id": "uFQo3ycuO-v6"
      },
      "source": [
        "# Load and Inspect patient admission data"
      ]
    },
    {
      "cell_type": "code",
      "execution_count": 3,
      "metadata": {},
      "outputs": [
        {
          "data": {
            "text/html": [
              "<div>\n",
              "<style scoped>\n",
              "    .dataframe tbody tr th:only-of-type {\n",
              "        vertical-align: middle;\n",
              "    }\n",
              "\n",
              "    .dataframe tbody tr th {\n",
              "        vertical-align: top;\n",
              "    }\n",
              "\n",
              "    .dataframe thead th {\n",
              "        text-align: right;\n",
              "    }\n",
              "</style>\n",
              "<table border=\"1\" class=\"dataframe\">\n",
              "  <thead>\n",
              "    <tr style=\"text-align: right;\">\n",
              "      <th></th>\n",
              "      <th>hospital_name</th>\n",
              "      <th>Admission_date</th>\n",
              "      <th>hospital_id</th>\n",
              "      <th>hospital_beds_available</th>\n",
              "      <th>occupied_beds</th>\n",
              "      <th>hospital_ward</th>\n",
              "      <th>patient_id</th>\n",
              "      <th>patient_gender</th>\n",
              "      <th>patient_age</th>\n",
              "      <th>patient_race</th>\n",
              "      <th>...</th>\n",
              "      <th>doctor_id</th>\n",
              "      <th>doctor_name</th>\n",
              "      <th>doctor_specialty</th>\n",
              "      <th>patient_assigned_doctor</th>\n",
              "      <th>patient_checkin_date</th>\n",
              "      <th>patient_checkout_date</th>\n",
              "      <th>patient_disease</th>\n",
              "      <th>patient_length_of_stay</th>\n",
              "      <th>discharge_status</th>\n",
              "      <th>readmission</th>\n",
              "    </tr>\n",
              "  </thead>\n",
              "  <tbody>\n",
              "    <tr>\n",
              "      <th>9990</th>\n",
              "      <td>The Johns Hopkins Hospital</td>\n",
              "      <td>02/01/2024</td>\n",
              "      <td>9232</td>\n",
              "      <td>380</td>\n",
              "      <td>180</td>\n",
              "      <td>ICU</td>\n",
              "      <td>8808</td>\n",
              "      <td>Female</td>\n",
              "      <td>22</td>\n",
              "      <td>White</td>\n",
              "      <td>...</td>\n",
              "      <td>9233</td>\n",
              "      <td>Tammy Nunez</td>\n",
              "      <td>Neurology</td>\n",
              "      <td>True</td>\n",
              "      <td>07/07/2024</td>\n",
              "      <td>18-07-2024</td>\n",
              "      <td>Influenza (Flu)</td>\n",
              "      <td>5</td>\n",
              "      <td>Transferred</td>\n",
              "      <td>0</td>\n",
              "    </tr>\n",
              "    <tr>\n",
              "      <th>9991</th>\n",
              "      <td>The Johns Hopkins Hospital</td>\n",
              "      <td>05/02/2023</td>\n",
              "      <td>3417</td>\n",
              "      <td>130</td>\n",
              "      <td>150</td>\n",
              "      <td>Maternity</td>\n",
              "      <td>5997</td>\n",
              "      <td>Female</td>\n",
              "      <td>16</td>\n",
              "      <td>Hispanic</td>\n",
              "      <td>...</td>\n",
              "      <td>1906</td>\n",
              "      <td>Julie Weiss</td>\n",
              "      <td>Oncology</td>\n",
              "      <td>True</td>\n",
              "      <td>10/07/2024</td>\n",
              "      <td>07/07/2024</td>\n",
              "      <td>Irritable Bowel Syndrome (IBS)</td>\n",
              "      <td>7</td>\n",
              "      <td>Deceased</td>\n",
              "      <td>1</td>\n",
              "    </tr>\n",
              "    <tr>\n",
              "      <th>9992</th>\n",
              "      <td>The Johns Hopkins Hospital</td>\n",
              "      <td>05/01/2022</td>\n",
              "      <td>4453</td>\n",
              "      <td>360</td>\n",
              "      <td>310</td>\n",
              "      <td>Pediatrics</td>\n",
              "      <td>3816</td>\n",
              "      <td>Male</td>\n",
              "      <td>14</td>\n",
              "      <td>Asian</td>\n",
              "      <td>...</td>\n",
              "      <td>2577</td>\n",
              "      <td>David Little</td>\n",
              "      <td>Oncology</td>\n",
              "      <td>True</td>\n",
              "      <td>30-06-2024</td>\n",
              "      <td>02/07/2024</td>\n",
              "      <td>Stroke</td>\n",
              "      <td>13</td>\n",
              "      <td>Transferred</td>\n",
              "      <td>1</td>\n",
              "    </tr>\n",
              "    <tr>\n",
              "      <th>9993</th>\n",
              "      <td>The Johns Hopkins Hospital</td>\n",
              "      <td>15-02-2022</td>\n",
              "      <td>2544</td>\n",
              "      <td>130</td>\n",
              "      <td>70</td>\n",
              "      <td>Maternity</td>\n",
              "      <td>5109</td>\n",
              "      <td>Male</td>\n",
              "      <td>63</td>\n",
              "      <td>Black</td>\n",
              "      <td>...</td>\n",
              "      <td>6270</td>\n",
              "      <td>Donna Freeman</td>\n",
              "      <td>Hepatology or Gastroenterology</td>\n",
              "      <td>False</td>\n",
              "      <td>01/07/2024</td>\n",
              "      <td>03/07/2024</td>\n",
              "      <td>Migraine</td>\n",
              "      <td>20</td>\n",
              "      <td>Deceased</td>\n",
              "      <td>1</td>\n",
              "    </tr>\n",
              "    <tr>\n",
              "      <th>9994</th>\n",
              "      <td>The Johns Hopkins Hospital</td>\n",
              "      <td>21-08-2021</td>\n",
              "      <td>5155</td>\n",
              "      <td>410</td>\n",
              "      <td>290</td>\n",
              "      <td>ICU</td>\n",
              "      <td>9207</td>\n",
              "      <td>Male</td>\n",
              "      <td>84</td>\n",
              "      <td>Hispanic</td>\n",
              "      <td>...</td>\n",
              "      <td>7795</td>\n",
              "      <td>Edward Cook</td>\n",
              "      <td>Pulmonology</td>\n",
              "      <td>True</td>\n",
              "      <td>13-07-2024</td>\n",
              "      <td>28-06-2024</td>\n",
              "      <td>Cancer</td>\n",
              "      <td>14</td>\n",
              "      <td>Deceased</td>\n",
              "      <td>1</td>\n",
              "    </tr>\n",
              "    <tr>\n",
              "      <th>9995</th>\n",
              "      <td>The Johns Hopkins Hospital</td>\n",
              "      <td>25-11-2023</td>\n",
              "      <td>5218</td>\n",
              "      <td>300</td>\n",
              "      <td>390</td>\n",
              "      <td>Maternity</td>\n",
              "      <td>1869</td>\n",
              "      <td>Male</td>\n",
              "      <td>77</td>\n",
              "      <td>Hispanic</td>\n",
              "      <td>...</td>\n",
              "      <td>6974</td>\n",
              "      <td>Jonathan Munoz</td>\n",
              "      <td>Gastroenterology</td>\n",
              "      <td>True</td>\n",
              "      <td>21-07-2024</td>\n",
              "      <td>24-06-2024</td>\n",
              "      <td>Epilepsy</td>\n",
              "      <td>20</td>\n",
              "      <td>Transferred</td>\n",
              "      <td>0</td>\n",
              "    </tr>\n",
              "    <tr>\n",
              "      <th>9996</th>\n",
              "      <td>The Johns Hopkins Hospital</td>\n",
              "      <td>28-03-2023</td>\n",
              "      <td>2265</td>\n",
              "      <td>100</td>\n",
              "      <td>380</td>\n",
              "      <td>ICU</td>\n",
              "      <td>2847</td>\n",
              "      <td>Male</td>\n",
              "      <td>75</td>\n",
              "      <td>Black</td>\n",
              "      <td>...</td>\n",
              "      <td>2135</td>\n",
              "      <td>Brandon Torres</td>\n",
              "      <td>Neurology</td>\n",
              "      <td>True</td>\n",
              "      <td>22-07-2024</td>\n",
              "      <td>24-06-2024</td>\n",
              "      <td>Influenza (Flu)</td>\n",
              "      <td>29</td>\n",
              "      <td>Transferred</td>\n",
              "      <td>1</td>\n",
              "    </tr>\n",
              "    <tr>\n",
              "      <th>9997</th>\n",
              "      <td>The Johns Hopkins Hospital</td>\n",
              "      <td>13-02-2021</td>\n",
              "      <td>7011</td>\n",
              "      <td>330</td>\n",
              "      <td>230</td>\n",
              "      <td>ER</td>\n",
              "      <td>8324</td>\n",
              "      <td>Male</td>\n",
              "      <td>57</td>\n",
              "      <td>Other</td>\n",
              "      <td>...</td>\n",
              "      <td>1827</td>\n",
              "      <td>Richard Turner</td>\n",
              "      <td>Hepatology or Gastroenterology</td>\n",
              "      <td>False</td>\n",
              "      <td>01/07/2024</td>\n",
              "      <td>15-07-2024</td>\n",
              "      <td>Cancer</td>\n",
              "      <td>11</td>\n",
              "      <td>Recovered</td>\n",
              "      <td>0</td>\n",
              "    </tr>\n",
              "    <tr>\n",
              "      <th>9998</th>\n",
              "      <td>The Johns Hopkins Hospital</td>\n",
              "      <td>04/01/2022</td>\n",
              "      <td>2471</td>\n",
              "      <td>230</td>\n",
              "      <td>400</td>\n",
              "      <td>Maternity</td>\n",
              "      <td>6911</td>\n",
              "      <td>Female</td>\n",
              "      <td>63</td>\n",
              "      <td>Other</td>\n",
              "      <td>...</td>\n",
              "      <td>3097</td>\n",
              "      <td>Jonathan Thompson</td>\n",
              "      <td>Cardiology or Internal Medicine</td>\n",
              "      <td>False</td>\n",
              "      <td>06/07/2024</td>\n",
              "      <td>06/07/2024</td>\n",
              "      <td>COVID-19</td>\n",
              "      <td>24</td>\n",
              "      <td>Recovered</td>\n",
              "      <td>0</td>\n",
              "    </tr>\n",
              "    <tr>\n",
              "      <th>9999</th>\n",
              "      <td>The Johns Hopkins Hospital</td>\n",
              "      <td>31-05-2023</td>\n",
              "      <td>4143</td>\n",
              "      <td>100</td>\n",
              "      <td>100</td>\n",
              "      <td>ER</td>\n",
              "      <td>3081</td>\n",
              "      <td>Female</td>\n",
              "      <td>3</td>\n",
              "      <td>White</td>\n",
              "      <td>...</td>\n",
              "      <td>3577</td>\n",
              "      <td>Louis Luna MD</td>\n",
              "      <td>Rheumatology</td>\n",
              "      <td>False</td>\n",
              "      <td>21-07-2024</td>\n",
              "      <td>17-07-2024</td>\n",
              "      <td>Celiac Disease</td>\n",
              "      <td>23</td>\n",
              "      <td>Deceased</td>\n",
              "      <td>0</td>\n",
              "    </tr>\n",
              "  </tbody>\n",
              "</table>\n",
              "<p>10 rows × 26 columns</p>\n",
              "</div>"
            ],
            "text/plain": [
              "                   hospital_name Admission_date  hospital_id  \\\n",
              "9990  The Johns Hopkins Hospital     02/01/2024         9232   \n",
              "9991  The Johns Hopkins Hospital     05/02/2023         3417   \n",
              "9992  The Johns Hopkins Hospital     05/01/2022         4453   \n",
              "9993  The Johns Hopkins Hospital     15-02-2022         2544   \n",
              "9994  The Johns Hopkins Hospital     21-08-2021         5155   \n",
              "9995  The Johns Hopkins Hospital     25-11-2023         5218   \n",
              "9996  The Johns Hopkins Hospital     28-03-2023         2265   \n",
              "9997  The Johns Hopkins Hospital     13-02-2021         7011   \n",
              "9998  The Johns Hopkins Hospital     04/01/2022         2471   \n",
              "9999  The Johns Hopkins Hospital     31-05-2023         4143   \n",
              "\n",
              "      hospital_beds_available  occupied_beds hospital_ward  patient_id  \\\n",
              "9990                      380            180           ICU        8808   \n",
              "9991                      130            150     Maternity        5997   \n",
              "9992                      360            310    Pediatrics        3816   \n",
              "9993                      130             70     Maternity        5109   \n",
              "9994                      410            290           ICU        9207   \n",
              "9995                      300            390     Maternity        1869   \n",
              "9996                      100            380           ICU        2847   \n",
              "9997                      330            230            ER        8324   \n",
              "9998                      230            400     Maternity        6911   \n",
              "9999                      100            100            ER        3081   \n",
              "\n",
              "     patient_gender  patient_age patient_race  ...  doctor_id  \\\n",
              "9990         Female           22        White  ...       9233   \n",
              "9991         Female           16     Hispanic  ...       1906   \n",
              "9992           Male           14        Asian  ...       2577   \n",
              "9993           Male           63        Black  ...       6270   \n",
              "9994           Male           84     Hispanic  ...       7795   \n",
              "9995           Male           77     Hispanic  ...       6974   \n",
              "9996           Male           75        Black  ...       2135   \n",
              "9997           Male           57        Other  ...       1827   \n",
              "9998         Female           63        Other  ...       3097   \n",
              "9999         Female            3        White  ...       3577   \n",
              "\n",
              "            doctor_name                 doctor_specialty  \\\n",
              "9990        Tammy Nunez                        Neurology   \n",
              "9991        Julie Weiss                         Oncology   \n",
              "9992       David Little                         Oncology   \n",
              "9993      Donna Freeman   Hepatology or Gastroenterology   \n",
              "9994        Edward Cook                      Pulmonology   \n",
              "9995     Jonathan Munoz                 Gastroenterology   \n",
              "9996     Brandon Torres                        Neurology   \n",
              "9997     Richard Turner   Hepatology or Gastroenterology   \n",
              "9998  Jonathan Thompson  Cardiology or Internal Medicine   \n",
              "9999      Louis Luna MD                     Rheumatology   \n",
              "\n",
              "      patient_assigned_doctor patient_checkin_date patient_checkout_date  \\\n",
              "9990                     True           07/07/2024            18-07-2024   \n",
              "9991                     True           10/07/2024            07/07/2024   \n",
              "9992                     True           30-06-2024            02/07/2024   \n",
              "9993                    False           01/07/2024            03/07/2024   \n",
              "9994                     True           13-07-2024            28-06-2024   \n",
              "9995                     True           21-07-2024            24-06-2024   \n",
              "9996                     True           22-07-2024            24-06-2024   \n",
              "9997                    False           01/07/2024            15-07-2024   \n",
              "9998                    False           06/07/2024            06/07/2024   \n",
              "9999                    False           21-07-2024            17-07-2024   \n",
              "\n",
              "                     patient_disease patient_length_of_stay discharge_status  \\\n",
              "9990                 Influenza (Flu)                      5      Transferred   \n",
              "9991  Irritable Bowel Syndrome (IBS)                      7         Deceased   \n",
              "9992                          Stroke                     13      Transferred   \n",
              "9993                        Migraine                     20         Deceased   \n",
              "9994                          Cancer                     14         Deceased   \n",
              "9995                        Epilepsy                     20      Transferred   \n",
              "9996                 Influenza (Flu)                     29      Transferred   \n",
              "9997                          Cancer                     11        Recovered   \n",
              "9998                        COVID-19                     24        Recovered   \n",
              "9999                  Celiac Disease                     23         Deceased   \n",
              "\n",
              "      readmission  \n",
              "9990            0  \n",
              "9991            1  \n",
              "9992            1  \n",
              "9993            1  \n",
              "9994            1  \n",
              "9995            0  \n",
              "9996            1  \n",
              "9997            0  \n",
              "9998            0  \n",
              "9999            0  \n",
              "\n",
              "[10 rows x 26 columns]"
            ]
          },
          "execution_count": 3,
          "metadata": {},
          "output_type": "execute_result"
        }
      ],
      "source": [
        "import pandas as pd\n",
        "\n",
        "df = pd.read_csv(\"inputs/datasets/raw/Healthcare Data Analysis for readmission.csv\")\n",
        "df.tail(10)"
      ]
    },
    {
      "cell_type": "markdown",
      "metadata": {},
      "source": [
        "DataFrame Summary\n",
        "\n",
        "Check columns and nan counts"
      ]
    },
    {
      "cell_type": "code",
      "execution_count": 4,
      "metadata": {},
      "outputs": [
        {
          "name": "stdout",
          "output_type": "stream",
          "text": [
            "<class 'pandas.core.frame.DataFrame'>\n",
            "RangeIndex: 10000 entries, 0 to 9999\n",
            "Data columns (total 26 columns):\n",
            " #   Column                   Non-Null Count  Dtype \n",
            "---  ------                   --------------  ----- \n",
            " 0   hospital_name            10000 non-null  object\n",
            " 1   Admission_date           10000 non-null  object\n",
            " 2   hospital_id              10000 non-null  int64 \n",
            " 3   hospital_beds_available  10000 non-null  int64 \n",
            " 4   occupied_beds            10000 non-null  int64 \n",
            " 5   hospital_ward            10000 non-null  object\n",
            " 6   patient_id               10000 non-null  int64 \n",
            " 7   patient_gender           10000 non-null  object\n",
            " 8   patient_age              10000 non-null  int64 \n",
            " 9   patient_race             10000 non-null  object\n",
            " 10  patient_sat_score        10000 non-null  int64 \n",
            " 11  patient_first_initial    10000 non-null  object\n",
            " 12  patient_last_name        10000 non-null  object\n",
            " 13  patient_waittime         10000 non-null  int64 \n",
            " 14  department_referral      10000 non-null  object\n",
            " 15  time_slot                10000 non-null  object\n",
            " 16  doctor_id                10000 non-null  int64 \n",
            " 17  doctor_name              10000 non-null  object\n",
            " 18  doctor_specialty         10000 non-null  object\n",
            " 19  patient_assigned_doctor  10000 non-null  bool  \n",
            " 20  patient_checkin_date     10000 non-null  object\n",
            " 21  patient_checkout_date    10000 non-null  object\n",
            " 22  patient_disease          10000 non-null  object\n",
            " 23  patient_length_of_stay   10000 non-null  int64 \n",
            " 24  discharge_status         10000 non-null  object\n",
            " 25  readmission              10000 non-null  int64 \n",
            "dtypes: bool(1), int64(10), object(15)\n",
            "memory usage: 1.9+ MB\n"
          ]
        }
      ],
      "source": [
        "df.info()"
      ]
    },
    {
      "cell_type": "markdown",
      "metadata": {},
      "source": [
        "Check Target variable unique value"
      ]
    },
    {
      "cell_type": "code",
      "execution_count": 5,
      "metadata": {},
      "outputs": [
        {
          "data": {
            "text/plain": [
              "array([1, 0])"
            ]
          },
          "execution_count": 5,
          "metadata": {},
          "output_type": "execute_result"
        }
      ],
      "source": [
        "df['readmission'].unique()"
      ]
    },
    {
      "cell_type": "markdown",
      "metadata": {},
      "source": [
        "### Remove sensitive personal information"
      ]
    },
    {
      "cell_type": "code",
      "execution_count": 9,
      "metadata": {},
      "outputs": [
        {
          "name": "stdout",
          "output_type": "stream",
          "text": [
            "<class 'pandas.core.frame.DataFrame'>\n",
            "RangeIndex: 10000 entries, 0 to 9999\n",
            "Data columns (total 23 columns):\n",
            " #   Column                   Non-Null Count  Dtype \n",
            "---  ------                   --------------  ----- \n",
            " 0   hospital_name            10000 non-null  object\n",
            " 1   Admission_date           10000 non-null  object\n",
            " 2   hospital_id              10000 non-null  int64 \n",
            " 3   hospital_beds_available  10000 non-null  int64 \n",
            " 4   occupied_beds            10000 non-null  int64 \n",
            " 5   hospital_ward            10000 non-null  object\n",
            " 6   patient_id               10000 non-null  int64 \n",
            " 7   patient_gender           10000 non-null  object\n",
            " 8   patient_age              10000 non-null  int64 \n",
            " 9   patient_race             10000 non-null  object\n",
            " 10  patient_sat_score        10000 non-null  int64 \n",
            " 11  patient_waittime         10000 non-null  int64 \n",
            " 12  department_referral      10000 non-null  object\n",
            " 13  time_slot                10000 non-null  object\n",
            " 14  doctor_id                10000 non-null  int64 \n",
            " 15  doctor_specialty         10000 non-null  object\n",
            " 16  patient_assigned_doctor  10000 non-null  bool  \n",
            " 17  patient_checkin_date     10000 non-null  object\n",
            " 18  patient_checkout_date    10000 non-null  object\n",
            " 19  patient_disease          10000 non-null  object\n",
            " 20  patient_length_of_stay   10000 non-null  int64 \n",
            " 21  discharge_status         10000 non-null  object\n",
            " 22  readmission              10000 non-null  int64 \n",
            "dtypes: bool(1), int64(10), object(12)\n",
            "memory usage: 1.7+ MB\n"
          ]
        }
      ],
      "source": [
        "sensitive_cols = [\n",
        "    'patient_first_initial',\n",
        "    'patient_last_name',\n",
        "    'doctor_name',\n",
        "]\n",
        "\n",
        "df = df.drop(columns=sensitive_cols)\n",
        "df.info()"
      ]
    },
    {
      "cell_type": "markdown",
      "metadata": {},
      "source": [
        "# Save file \n",
        "\n",
        "create destination folder: outputs/datasets/collection"
      ]
    },
    {
      "cell_type": "code",
      "execution_count": 10,
      "metadata": {},
      "outputs": [
        {
          "name": "stdout",
          "output_type": "stream",
          "text": [
            "[Errno 17] File exists: 'outputs/datasets/collection'\n"
          ]
        }
      ],
      "source": [
        "import os\n",
        "\n",
        "output_path = r\"outputs/datasets/collection\"\n",
        "try:\n",
        "  os.makedirs(name=output_path)\n",
        "except Exception as e:\n",
        "  print(e)\n",
        "\n",
        "df.to_csv(f\"outputs/datasets/collection/patientReadmission.csv\",index=False)"
      ]
    },
    {
      "cell_type": "markdown",
      "metadata": {},
      "source": [
        "---"
      ]
    },
    {
      "cell_type": "markdown",
      "metadata": {
        "id": "ltNetd085qHf"
      },
      "source": [
        "# Conclusions and Next Steps"
      ]
    },
    {
      "cell_type": "markdown",
      "metadata": {},
      "source": [
        "* raw data have been downloaded\n",
        "* Preliminary checks and variable data type changes\n",
        "* Output file saved to the 'collections' subfolder in 'outputs/dataset/'\n",
        "* Next notebook will tackle data exploration"
      ]
    }
  ],
  "metadata": {
    "accelerator": "GPU",
    "colab": {
      "name": "Data Practitioner Jupyter Notebook.ipynb",
      "provenance": [],
      "toc_visible": true
    },
    "kernelspec": {
      "display_name": "3.12.1",
      "language": "python",
      "name": "python3"
    },
    "language_info": {
      "codemirror_mode": {
        "name": "ipython",
        "version": 3
      },
      "file_extension": ".py",
      "mimetype": "text/x-python",
      "name": "python",
      "nbconvert_exporter": "python",
      "pygments_lexer": "ipython3",
      "version": "3.12.1"
    },
    "orig_nbformat": 2
  },
  "nbformat": 4,
  "nbformat_minor": 2
}
